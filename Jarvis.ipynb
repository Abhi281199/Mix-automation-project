{
 "cells": [
  {
   "cell_type": "code",
   "execution_count": 1,
   "id": "fc5182d0",
   "metadata": {},
   "outputs": [
    {
     "name": "stdout",
     "output_type": "stream",
     "text": [
      "Requirement already satisfied: pyttsx3 in c:\\users\\abhi\\anaconda3\\lib\\site-packages (2.90)\n",
      "Requirement already satisfied: comtypes in c:\\users\\abhi\\anaconda3\\lib\\site-packages (from pyttsx3) (1.1.9)\n",
      "Requirement already satisfied: pywin32 in c:\\users\\abhi\\anaconda3\\lib\\site-packages (from pyttsx3) (227)\n",
      "Requirement already satisfied: pypiwin32 in c:\\users\\abhi\\anaconda3\\lib\\site-packages (from pyttsx3) (223)\n",
      "Note: you may need to restart the kernel to use updated packages.\n"
     ]
    }
   ],
   "source": [
    "pip install pyttsx3"
   ]
  },
  {
   "cell_type": "code",
   "execution_count": 2,
   "id": "6b7b2d92",
   "metadata": {},
   "outputs": [
    {
     "name": "stdout",
     "output_type": "stream",
     "text": [
      "Requirement already satisfied: SpeechRecognition in c:\\users\\abhi\\anaconda3\\lib\\site-packages (3.8.1)\n",
      "Note: you may need to restart the kernel to use updated packages.\n"
     ]
    }
   ],
   "source": [
    "pip install SpeechRecognition"
   ]
  },
  {
   "cell_type": "code",
   "execution_count": 3,
   "id": "fec2f91b",
   "metadata": {},
   "outputs": [
    {
     "name": "stdout",
     "output_type": "stream",
     "text": [
      "Requirement already satisfied: pyaudio in c:\\users\\abhi\\anaconda3\\lib\\site-packages (0.2.11)\n",
      "Note: you may need to restart the kernel to use updated packages.\n"
     ]
    }
   ],
   "source": [
    "pip install pyaudio"
   ]
  },
  {
   "cell_type": "code",
   "execution_count": 4,
   "id": "b202a191",
   "metadata": {},
   "outputs": [],
   "source": [
    "import pyttsx3\n",
    "import speech_recognition as sr\n",
    "import datetime\n",
    "import pyaudio\n",
    "import wikipedia\n",
    "import webbrowser\n",
    "import os"
   ]
  },
  {
   "cell_type": "code",
   "execution_count": 5,
   "id": "1cbcbcc6",
   "metadata": {},
   "outputs": [
    {
     "name": "stdout",
     "output_type": "stream",
     "text": [
      "[<pyttsx3.voice.Voice object at 0x0000028D82A94DF0>, <pyttsx3.voice.Voice object at 0x0000028D84600880>, <pyttsx3.voice.Voice object at 0x0000028D849C6A60>]\n"
     ]
    }
   ],
   "source": [
    "engine = pyttsx3.init('sapi5')\n",
    "voices = engine.getProperty('voices')\n",
    "print(voices)"
   ]
  },
  {
   "cell_type": "code",
   "execution_count": 6,
   "id": "f48ca9c3",
   "metadata": {},
   "outputs": [
    {
     "name": "stdout",
     "output_type": "stream",
     "text": [
      "HKEY_LOCAL_MACHINE\\SOFTWARE\\Microsoft\\Speech\\Voices\\Tokens\\TTS_MS_EN-US_DAVID_11.0\n"
     ]
    }
   ],
   "source": [
    "engine = pyttsx3.init('sapi5')\n",
    "voices = engine.getProperty('voices')\n",
    "engine.setProperty('voice', voices[0].id)\n",
    "print(voices[0].id)"
   ]
  },
  {
   "cell_type": "code",
   "execution_count": 7,
   "id": "03647126",
   "metadata": {},
   "outputs": [],
   "source": [
    " def speak(audio):\n",
    "        engine.say(audio)\n",
    "        engine.runAndWait()"
   ]
  },
  {
   "cell_type": "code",
   "execution_count": 8,
   "id": "8e7bf4b3",
   "metadata": {
    "scrolled": true
   },
   "outputs": [],
   "source": [
    "def wishMe():\n",
    "    hour = int(datetime.datetime.now().hour)\n",
    "    if hour>=0 and hour<12:\n",
    "        speak(\"Good Morning\")\n",
    "        \n",
    "    elif hour>=12 and hour<18:\n",
    "        speak(\"Good Afternoon\")\n",
    "        \n",
    "    else:\n",
    "        speak(\"Good Night\")\n",
    "        \n",
    "    speak(\"I am Jarvis sir, how may i help you sir\")\n",
    "    \n",
    "if __name__==\"__main__\" :\n",
    "    wishMe()"
   ]
  },
  {
   "cell_type": "code",
   "execution_count": 9,
   "id": "b9b315f2",
   "metadata": {},
   "outputs": [
    {
     "name": "stdout",
     "output_type": "stream",
     "text": [
      "Listening...\n",
      "Recognzing...\n",
      "Say that again please...\n"
     ]
    }
   ],
   "source": [
    "speak(\"I am Jarvis sir, how may i help you sir\")\n",
    "    \n",
    "def TakeCommand():\n",
    "    \n",
    "    r = sr.Recognizer()\n",
    "    with sr.Microphone() as source:\n",
    "        print(\"Listening...\")\n",
    "        r.pause_thresold = 1\n",
    "        audio = r.listen(source)\n",
    "        \n",
    "        \n",
    "    try:\n",
    "        print(\"Recognzing...\")\n",
    "        query = r.recognize_google(audio, language= 'en-in')\n",
    "        print(f\"User said: {query}\\n\")\n",
    "        \n",
    "    except Exception as e:\n",
    "        print(\"Say that again please...\")\n",
    "        return \"None\"\n",
    "    return query\n",
    "\n",
    "if __name__==\"__main__\" :\n",
    "    TakeCommand()"
   ]
  },
  {
   "cell_type": "code",
   "execution_count": 11,
   "id": "00501019",
   "metadata": {},
   "outputs": [
    {
     "name": "stdout",
     "output_type": "stream",
     "text": [
      "Listening...\n",
      "Recognzing...\n",
      "User said: open Google\n",
      "\n"
     ]
    }
   ],
   "source": [
    "def TakeCommand():\n",
    "    \n",
    "    r = sr.Recognizer()\n",
    "    with sr.Microphone() as source:\n",
    "        print(\"Listening...\")\n",
    "        r.pause_thresold = 1\n",
    "        audio = r.listen(source)\n",
    "        \n",
    "        \n",
    "    try:\n",
    "        print(\"Recognzing...\")\n",
    "        query = r.recognize_google(audio, language= 'en-in')\n",
    "        print(f\"User said: {query}\\n\")\n",
    "        \n",
    "    except Exception as e:\n",
    "        print(\"Say that again please...\")\n",
    "        return \"None\"\n",
    "    return query\n",
    "\n",
    "if __name__ == \"__main__\":\n",
    "    #while True:\n",
    "    if 1:\n",
    "        query = TakeCommand().lower()\n",
    "\n",
    "       \n",
    "        if 'wikipedia' in query: \n",
    "            speak('Searching Wikipedia...')\n",
    "            query = query.replace(\"wikipedia\", \"\")\n",
    "            results = wikipedia.summary(query, sentences=2) \n",
    "            speak(\"According to Wikipedia\")\n",
    "            print(results)\n",
    "            speak(results)\n",
    "            \n",
    "        elif 'open youtube' in query:\n",
    "            webbrowser.open('youtube.com')\n",
    "            \n",
    "        elif 'open google' in query:\n",
    "            webbrowser.open('google.com')\n",
    "            \n",
    "        elif 'open whatsapp' in query:\n",
    "            webbrowser.open('whatsapp.web')\n",
    "           \n",
    "        elif 'the time' in query:\n",
    "            strTime = datetime.datetime.now().strftime(\"%H:%M:%S\")\n",
    "            speak(f\"sir, the time is {strTime}\")\n",
    "            \n",
    "        elif 'open vlc' in query:\n",
    "            codepath = \"C:\\\\Program Files\\\\VideoLAN\\\\VLC\\\\vlc.exe\"\n",
    "            os.startfile(codepath)"
   ]
  },
  {
   "cell_type": "code",
   "execution_count": null,
   "id": "a64f51db",
   "metadata": {},
   "outputs": [],
   "source": []
  }
 ],
 "metadata": {
  "kernelspec": {
   "display_name": "Python 3",
   "language": "python",
   "name": "python3"
  },
  "language_info": {
   "codemirror_mode": {
    "name": "ipython",
    "version": 3
   },
   "file_extension": ".py",
   "mimetype": "text/x-python",
   "name": "python",
   "nbconvert_exporter": "python",
   "pygments_lexer": "ipython3",
   "version": "3.8.8"
  }
 },
 "nbformat": 4,
 "nbformat_minor": 5
}
